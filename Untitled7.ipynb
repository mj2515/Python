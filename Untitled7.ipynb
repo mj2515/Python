{
  "nbformat": 4,
  "nbformat_minor": 0,
  "metadata": {
    "colab": {
      "name": "Untitled7.ipynb",
      "provenance": [],
      "authorship_tag": "ABX9TyMlNvAYwOl6awbvooz9IkHm",
      "include_colab_link": true
    },
    "kernelspec": {
      "name": "python3",
      "display_name": "Python 3"
    },
    "language_info": {
      "name": "python"
    }
  },
  "cells": [
    {
      "cell_type": "markdown",
      "metadata": {
        "id": "view-in-github",
        "colab_type": "text"
      },
      "source": [
        "<a href=\"https://colab.research.google.com/github/mj2515/Python/blob/main/Untitled7.ipynb\" target=\"_parent\"><img src=\"https://colab.research.google.com/assets/colab-badge.svg\" alt=\"Open In Colab\"/></a>"
      ]
    },
    {
      "cell_type": "code",
      "metadata": {
        "colab": {
          "base_uri": "https://localhost:8080/"
        },
        "id": "SoSOmSHVYpqg",
        "outputId": "06dafdfa-b713-4d8f-b4d4-64ec5a73e689"
      },
      "source": [
        "print(\"Before\")\n",
        "for thing in(9,41,12,3,74,15):\n",
        "  print(thing)\n",
        "print(\"after\")  "
      ],
      "execution_count": null,
      "outputs": [
        {
          "output_type": "stream",
          "text": [
            "Before\n",
            "9\n",
            "41\n",
            "12\n",
            "3\n",
            "74\n",
            "15\n",
            "after\n"
          ],
          "name": "stdout"
        }
      ]
    },
    {
      "cell_type": "code",
      "metadata": {
        "colab": {
          "base_uri": "https://localhost:8080/"
        },
        "id": "K7z-7ia4ZIx9",
        "outputId": "432012c0-da5e-424c-8885-9c16a14aaece"
      },
      "source": [
        "#finding the largest value\n",
        "largest= -1\n",
        "print(\"before\",largest)\n",
        "for num in(9,41,12,3,36,7):\n",
        "  if num>largest:\n",
        "    largest=num\n",
        "    print(largest,num)\n",
        "print(\"after\", largest)    "
      ],
      "execution_count": null,
      "outputs": [
        {
          "output_type": "stream",
          "text": [
            "before -1\n",
            "9 9\n",
            "41 41\n",
            "after 41\n"
          ],
          "name": "stdout"
        }
      ]
    },
    {
      "cell_type": "code",
      "metadata": {
        "colab": {
          "base_uri": "https://localhost:8080/"
        },
        "id": "GR2bj7ORahlq",
        "outputId": "11004698-ad40-4168-b0cb-85a81f747fe0"
      },
      "source": [
        "#counting in a loop\n",
        "count=0\n",
        "print(\"before\", count)\n",
        "for num in(9,41,12,3,74,15):\n",
        "  count=count+1\n",
        "  print(num, count)\n",
        "print(\"after\",count)  \n"
      ],
      "execution_count": null,
      "outputs": [
        {
          "output_type": "stream",
          "text": [
            "before 0\n",
            "9 1\n",
            "41 2\n",
            "12 3\n",
            "3 4\n",
            "74 5\n",
            "15 6\n",
            "after 6\n"
          ],
          "name": "stdout"
        }
      ]
    },
    {
      "cell_type": "code",
      "metadata": {
        "id": "eTJyQjw9bUo9"
      },
      "source": [
        ""
      ],
      "execution_count": null,
      "outputs": []
    }
  ]
}