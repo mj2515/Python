{
  "nbformat": 4,
  "nbformat_minor": 0,
  "metadata": {
    "colab": {
      "name": "Untitled12.ipynb",
      "provenance": [],
      "authorship_tag": "ABX9TyPolE/kdexmiNSmpQ5Bq9ML",
      "include_colab_link": true
    },
    "kernelspec": {
      "name": "python3",
      "display_name": "Python 3"
    },
    "language_info": {
      "name": "python"
    }
  },
  "cells": [
    {
      "cell_type": "markdown",
      "metadata": {
        "id": "view-in-github",
        "colab_type": "text"
      },
      "source": [
        "<a href=\"https://colab.research.google.com/github/mj2515/Python/blob/main/Untitled12.ipynb\" target=\"_parent\"><img src=\"https://colab.research.google.com/assets/colab-badge.svg\" alt=\"Open In Colab\"/></a>"
      ]
    },
    {
      "cell_type": "code",
      "metadata": {
        "id": "RTWIxGwOvBT3"
      },
      "source": [
        "#NumPy is a linear algebra library for python\n"
      ],
      "execution_count": null,
      "outputs": []
    },
    {
      "cell_type": "code",
      "metadata": {
        "id": "jzUHj7MDvO4i"
      },
      "source": [
        "#Vector(1d), Matrix(2d)"
      ],
      "execution_count": null,
      "outputs": []
    },
    {
      "cell_type": "code",
      "metadata": {
        "id": "b3SoLphhvVWR"
      },
      "source": [
        "my_list=[1,2,3]"
      ],
      "execution_count": 3,
      "outputs": []
    },
    {
      "cell_type": "code",
      "metadata": {
        "colab": {
          "base_uri": "https://localhost:8080/"
        },
        "id": "5ti1lfeavgcu",
        "outputId": "44d62893-a8be-4cc2-87f3-4034b2fce9f9"
      },
      "source": [
        "my_list"
      ],
      "execution_count": 4,
      "outputs": [
        {
          "output_type": "execute_result",
          "data": {
            "text/plain": [
              "[1, 2, 3]"
            ]
          },
          "metadata": {
            "tags": []
          },
          "execution_count": 4
        }
      ]
    },
    {
      "cell_type": "code",
      "metadata": {
        "id": "xYZkQWViviGr"
      },
      "source": [
        "import numpy as np\n",
        "arr=np.array(my_list)"
      ],
      "execution_count": 5,
      "outputs": []
    },
    {
      "cell_type": "code",
      "metadata": {
        "colab": {
          "base_uri": "https://localhost:8080/"
        },
        "id": "1R7Tt6Iqv3mj",
        "outputId": "9af49138-1f28-46e4-903a-32828571b654"
      },
      "source": [
        "print(arr)"
      ],
      "execution_count": 6,
      "outputs": [
        {
          "output_type": "stream",
          "text": [
            "[1 2 3]\n"
          ],
          "name": "stdout"
        }
      ]
    },
    {
      "cell_type": "code",
      "metadata": {
        "id": "lIhXVrUMv6th"
      },
      "source": [
        "my_mat=[[1,2,3],[4,5,6],[7,8,9]]"
      ],
      "execution_count": 7,
      "outputs": []
    },
    {
      "cell_type": "code",
      "metadata": {
        "colab": {
          "base_uri": "https://localhost:8080/"
        },
        "id": "Ab3-lqKLwhfD",
        "outputId": "959a9e19-ce49-4bdb-f94a-062d71e6c56d"
      },
      "source": [
        "np.array(my_mat)"
      ],
      "execution_count": 8,
      "outputs": [
        {
          "output_type": "execute_result",
          "data": {
            "text/plain": [
              "array([[1, 2, 3],\n",
              "       [4, 5, 6],\n",
              "       [7, 8, 9]])"
            ]
          },
          "metadata": {
            "tags": []
          },
          "execution_count": 8
        }
      ]
    },
    {
      "cell_type": "code",
      "metadata": {
        "colab": {
          "base_uri": "https://localhost:8080/"
        },
        "id": "Il-B5w2-xCbm",
        "outputId": "c7691638-e3e4-406e-bd25-d5b5eca07486"
      },
      "source": [
        "np.arange(0,10)"
      ],
      "execution_count": 10,
      "outputs": [
        {
          "output_type": "execute_result",
          "data": {
            "text/plain": [
              "array([0, 1, 2, 3, 4, 5, 6, 7, 8, 9])"
            ]
          },
          "metadata": {
            "tags": []
          },
          "execution_count": 10
        }
      ]
    },
    {
      "cell_type": "code",
      "metadata": {
        "colab": {
          "base_uri": "https://localhost:8080/"
        },
        "id": "h02bjyhwxJLI",
        "outputId": "e552166b-a34e-4a9e-9db6-08caf9fe5af5"
      },
      "source": [
        "np.eye(4)#identity matrix"
      ],
      "execution_count": 11,
      "outputs": [
        {
          "output_type": "execute_result",
          "data": {
            "text/plain": [
              "array([[1., 0., 0., 0.],\n",
              "       [0., 1., 0., 0.],\n",
              "       [0., 0., 1., 0.],\n",
              "       [0., 0., 0., 1.]])"
            ]
          },
          "metadata": {
            "tags": []
          },
          "execution_count": 11
        }
      ]
    },
    {
      "cell_type": "code",
      "metadata": {
        "colab": {
          "base_uri": "https://localhost:8080/"
        },
        "id": "gzYIZbtBzeaX",
        "outputId": "74b2a56f-a7cd-41db-ef1e-c5db872fc67b"
      },
      "source": [
        "np.random.rand(5)#To generate random number"
      ],
      "execution_count": 12,
      "outputs": [
        {
          "output_type": "execute_result",
          "data": {
            "text/plain": [
              "array([0.08646435, 0.63459096, 0.27289643, 0.50313793, 0.82056705])"
            ]
          },
          "metadata": {
            "tags": []
          },
          "execution_count": 12
        }
      ]
    },
    {
      "cell_type": "code",
      "metadata": {
        "colab": {
          "base_uri": "https://localhost:8080/"
        },
        "id": "1Tus-Nonzj80",
        "outputId": "4716032c-5706-4a83-8133-7d4a193ac293"
      },
      "source": [
        "np.random.rand(5,5)"
      ],
      "execution_count": 13,
      "outputs": [
        {
          "output_type": "execute_result",
          "data": {
            "text/plain": [
              "array([[0.35188979, 0.99275938, 0.30376339, 0.74632174, 0.77504298],\n",
              "       [0.20897109, 0.76641402, 0.23322141, 0.78805719, 0.99813435],\n",
              "       [0.55946105, 0.10120544, 0.06174598, 0.48286074, 0.08319317],\n",
              "       [0.85675774, 0.42232322, 0.50716838, 0.87261683, 0.7874994 ],\n",
              "       [0.10312994, 0.48047384, 0.01394089, 0.58437462, 0.2842653 ]])"
            ]
          },
          "metadata": {
            "tags": []
          },
          "execution_count": 13
        }
      ]
    },
    {
      "cell_type": "code",
      "metadata": {
        "colab": {
          "base_uri": "https://localhost:8080/"
        },
        "id": "TJrwVhCu0UC7",
        "outputId": "80996cef-2ca4-4744-85ef-37c2d77764c3"
      },
      "source": [
        "np.random.randn(5)"
      ],
      "execution_count": 15,
      "outputs": [
        {
          "output_type": "execute_result",
          "data": {
            "text/plain": [
              "array([ 0.25551489,  0.03560939,  0.07806355, -0.13887169, -0.53794863])"
            ]
          },
          "metadata": {
            "tags": []
          },
          "execution_count": 15
        }
      ]
    },
    {
      "cell_type": "code",
      "metadata": {
        "colab": {
          "base_uri": "https://localhost:8080/"
        },
        "id": "hvfI4UU50XSA",
        "outputId": "7f9994b6-aef2-4b2a-f4c1-db6c36d90927"
      },
      "source": [
        "np.random.randn(8,7)"
      ],
      "execution_count": 16,
      "outputs": [
        {
          "output_type": "execute_result",
          "data": {
            "text/plain": [
              "array([[ 0.04048504, -0.26424177, -0.90316498,  0.01436028,  0.37155896,\n",
              "        -0.91599544,  0.36579404],\n",
              "       [-0.74692766, -0.10613554, -1.02732571, -0.2303018 ,  0.47781233,\n",
              "        -1.05915701,  1.56354155],\n",
              "       [-0.25349441, -0.69073459, -1.47186855, -0.16924321, -0.02788377,\n",
              "         0.13233831, -0.02723962],\n",
              "       [ 0.33119167,  0.16662261,  1.60709565,  1.07314993,  0.15158884,\n",
              "         0.43616559, -0.18189242],\n",
              "       [ 1.68730812, -0.42960738, -1.14080118,  0.1062859 ,  0.93645493,\n",
              "         0.95987437, -0.24558785],\n",
              "       [ 0.15565844,  0.57274988, -0.47158748, -0.90783765, -1.2148656 ,\n",
              "        -0.4594423 , -0.41858954],\n",
              "       [ 1.81002915, -0.45237897, -0.90359106, -0.95853928, -1.49231659,\n",
              "         2.42713703, -1.52871078],\n",
              "       [ 0.65014332, -0.71684469,  0.9084194 , -1.71942018, -0.55008941,\n",
              "        -1.80528848, -0.17853935]])"
            ]
          },
          "metadata": {
            "tags": []
          },
          "execution_count": 16
        }
      ]
    },
    {
      "cell_type": "code",
      "metadata": {
        "colab": {
          "base_uri": "https://localhost:8080/"
        },
        "id": "tQt4vItl0paa",
        "outputId": "9276d5f4-bf7e-44af-961e-732fab2419ee"
      },
      "source": [
        "np.random.randint(1,100)"
      ],
      "execution_count": 17,
      "outputs": [
        {
          "output_type": "execute_result",
          "data": {
            "text/plain": [
              "37"
            ]
          },
          "metadata": {
            "tags": []
          },
          "execution_count": 17
        }
      ]
    },
    {
      "cell_type": "code",
      "metadata": {
        "colab": {
          "base_uri": "https://localhost:8080/"
        },
        "id": "ZDnS1pnd0vdP",
        "outputId": "3be5a88b-1463-49a0-8fe4-379876c2dbad"
      },
      "source": [
        "np.random.randint(1,100)#To generate random number"
      ],
      "execution_count": 18,
      "outputs": [
        {
          "output_type": "execute_result",
          "data": {
            "text/plain": [
              "18"
            ]
          },
          "metadata": {
            "tags": []
          },
          "execution_count": 18
        }
      ]
    },
    {
      "cell_type": "code",
      "metadata": {
        "colab": {
          "base_uri": "https://localhost:8080/"
        },
        "id": "KqRT3TG80yBt",
        "outputId": "e3a3f8c9-f133-4966-a020-77defc729960"
      },
      "source": [
        "np.random.randint(1,100,10)"
      ],
      "execution_count": 19,
      "outputs": [
        {
          "output_type": "execute_result",
          "data": {
            "text/plain": [
              "array([70, 58, 15, 67, 58, 79, 28, 20, 35, 22])"
            ]
          },
          "metadata": {
            "tags": []
          },
          "execution_count": 19
        }
      ]
    },
    {
      "cell_type": "code",
      "metadata": {
        "id": "xWTFUJnk00hV"
      },
      "source": [
        "arr=np.arange(25)"
      ],
      "execution_count": 22,
      "outputs": []
    },
    {
      "cell_type": "code",
      "metadata": {
        "colab": {
          "base_uri": "https://localhost:8080/"
        },
        "id": "LxCu9W7r1GTp",
        "outputId": "98842109-dc82-40de-ee02-5072c90a726f"
      },
      "source": [
        "arr"
      ],
      "execution_count": 23,
      "outputs": [
        {
          "output_type": "execute_result",
          "data": {
            "text/plain": [
              "array([ 0,  1,  2,  3,  4,  5,  6,  7,  8,  9, 10, 11, 12, 13, 14, 15, 16,\n",
              "       17, 18, 19, 20, 21, 22, 23, 24])"
            ]
          },
          "metadata": {
            "tags": []
          },
          "execution_count": 23
        }
      ]
    },
    {
      "cell_type": "code",
      "metadata": {
        "id": "YM0Bt9jD1H5W"
      },
      "source": [
        "ranarr=np.random.randint(0,50,10)"
      ],
      "execution_count": 24,
      "outputs": []
    },
    {
      "cell_type": "code",
      "metadata": {
        "colab": {
          "base_uri": "https://localhost:8080/"
        },
        "id": "puhEo59z1T1D",
        "outputId": "a4b86b2a-5940-4140-b7fd-1e75252b0654"
      },
      "source": [
        "ranarr"
      ],
      "execution_count": 25,
      "outputs": [
        {
          "output_type": "execute_result",
          "data": {
            "text/plain": [
              "array([ 9, 31, 40, 24,  3, 27, 23, 34, 15, 11])"
            ]
          },
          "metadata": {
            "tags": []
          },
          "execution_count": 25
        }
      ]
    },
    {
      "cell_type": "code",
      "metadata": {
        "colab": {
          "base_uri": "https://localhost:8080/"
        },
        "id": "NL9McsNd1Vbi",
        "outputId": "7dbeb0b5-acf5-49ee-de1c-f6bfae1ad265"
      },
      "source": [
        "arr.reshape(5,5)#vector to matrix"
      ],
      "execution_count": 26,
      "outputs": [
        {
          "output_type": "execute_result",
          "data": {
            "text/plain": [
              "array([[ 0,  1,  2,  3,  4],\n",
              "       [ 5,  6,  7,  8,  9],\n",
              "       [10, 11, 12, 13, 14],\n",
              "       [15, 16, 17, 18, 19],\n",
              "       [20, 21, 22, 23, 24]])"
            ]
          },
          "metadata": {
            "tags": []
          },
          "execution_count": 26
        }
      ]
    },
    {
      "cell_type": "code",
      "metadata": {
        "colab": {
          "base_uri": "https://localhost:8080/",
          "height": 167
        },
        "id": "cEAD44S31iXl",
        "outputId": "c5a91253-e6e9-47de-d027-dfc254e61b0b"
      },
      "source": [
        "arr.reshape(5,7)"
      ],
      "execution_count": 27,
      "outputs": [
        {
          "output_type": "error",
          "ename": "ValueError",
          "evalue": "ignored",
          "traceback": [
            "\u001b[0;31m---------------------------------------------------------------------------\u001b[0m",
            "\u001b[0;31mValueError\u001b[0m                                Traceback (most recent call last)",
            "\u001b[0;32m<ipython-input-27-30263a63b1ac>\u001b[0m in \u001b[0;36m<module>\u001b[0;34m()\u001b[0m\n\u001b[0;32m----> 1\u001b[0;31m \u001b[0marr\u001b[0m\u001b[0;34m.\u001b[0m\u001b[0mreshape\u001b[0m\u001b[0;34m(\u001b[0m\u001b[0;36m5\u001b[0m\u001b[0;34m,\u001b[0m\u001b[0;36m7\u001b[0m\u001b[0;34m)\u001b[0m\u001b[0;34m\u001b[0m\u001b[0;34m\u001b[0m\u001b[0m\n\u001b[0m",
            "\u001b[0;31mValueError\u001b[0m: cannot reshape array of size 25 into shape (5,7)"
          ]
        }
      ]
    },
    {
      "cell_type": "code",
      "metadata": {
        "colab": {
          "base_uri": "https://localhost:8080/"
        },
        "id": "KwPjrW5611fw",
        "outputId": "d18d9fc6-c6a7-4185-f151-4944f8690fa6"
      },
      "source": [
        "ranarr.max()#maximum from 1d array"
      ],
      "execution_count": 28,
      "outputs": [
        {
          "output_type": "execute_result",
          "data": {
            "text/plain": [
              "40"
            ]
          },
          "metadata": {
            "tags": []
          },
          "execution_count": 28
        }
      ]
    },
    {
      "cell_type": "code",
      "metadata": {
        "colab": {
          "base_uri": "https://localhost:8080/"
        },
        "id": "ex9HU93H18ok",
        "outputId": "ae1aa6c3-cd0d-440b-9723-f25455552d83"
      },
      "source": [
        "ranarr.min()#minimum from 1d array"
      ],
      "execution_count": 29,
      "outputs": [
        {
          "output_type": "execute_result",
          "data": {
            "text/plain": [
              "3"
            ]
          },
          "metadata": {
            "tags": []
          },
          "execution_count": 29
        }
      ]
    },
    {
      "cell_type": "code",
      "metadata": {
        "colab": {
          "base_uri": "https://localhost:8080/"
        },
        "id": "33EAmssj1-ke",
        "outputId": "1750a9a7-d825-4ec5-c52b-eb318305afe4"
      },
      "source": [
        "ranarr.argmax()#location to the max"
      ],
      "execution_count": 30,
      "outputs": [
        {
          "output_type": "execute_result",
          "data": {
            "text/plain": [
              "2"
            ]
          },
          "metadata": {
            "tags": []
          },
          "execution_count": 30
        }
      ]
    },
    {
      "cell_type": "code",
      "metadata": {
        "colab": {
          "base_uri": "https://localhost:8080/"
        },
        "id": "pI54wEe92Iyx",
        "outputId": "f6894d5e-03c7-4181-9498-47b2999c6e6b"
      },
      "source": [
        "ranarr.argmin()#location to the min"
      ],
      "execution_count": 31,
      "outputs": [
        {
          "output_type": "execute_result",
          "data": {
            "text/plain": [
              "4"
            ]
          },
          "metadata": {
            "tags": []
          },
          "execution_count": 31
        }
      ]
    },
    {
      "cell_type": "code",
      "metadata": {
        "colab": {
          "base_uri": "https://localhost:8080/"
        },
        "id": "qBzAqocW2uCC",
        "outputId": "913a5658-594b-4ae2-99b6-ac5c643d9206"
      },
      "source": [
        "arr.shape#order of matrix"
      ],
      "execution_count": 37,
      "outputs": [
        {
          "output_type": "execute_result",
          "data": {
            "text/plain": [
              "(25,)"
            ]
          },
          "metadata": {
            "tags": []
          },
          "execution_count": 37
        }
      ]
    },
    {
      "cell_type": "code",
      "metadata": {
        "colab": {
          "base_uri": "https://localhost:8080/"
        },
        "id": "--jTiAht2Xc4",
        "outputId": "88b3ceb8-2696-465b-dc58-c9458bfd7c47"
      },
      "source": [
        "arr.dtype"
      ],
      "execution_count": 38,
      "outputs": [
        {
          "output_type": "execute_result",
          "data": {
            "text/plain": [
              "dtype('int64')"
            ]
          },
          "metadata": {
            "tags": []
          },
          "execution_count": 38
        }
      ]
    },
    {
      "cell_type": "code",
      "metadata": {
        "colab": {
          "base_uri": "https://localhost:8080/"
        },
        "id": "A2bswIFP3Grr",
        "outputId": "bd5784b1-8573-4c4f-a284-86c5792ea900"
      },
      "source": [
        "from numpy.random import randint\n",
        "randint(2,10)"
      ],
      "execution_count": 40,
      "outputs": [
        {
          "output_type": "execute_result",
          "data": {
            "text/plain": [
              "9"
            ]
          },
          "metadata": {
            "tags": []
          },
          "execution_count": 40
        }
      ]
    },
    {
      "cell_type": "code",
      "metadata": {
        "id": "DDkp4zUD3Z3l"
      },
      "source": [
        ""
      ],
      "execution_count": null,
      "outputs": []
    }
  ]
}