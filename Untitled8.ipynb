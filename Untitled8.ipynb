{
  "nbformat": 4,
  "nbformat_minor": 0,
  "metadata": {
    "colab": {
      "name": "Untitled8.ipynb",
      "provenance": [],
      "authorship_tag": "ABX9TyM5d/eW9yJQ23xfjB4oBwaE",
      "include_colab_link": true
    },
    "kernelspec": {
      "name": "python3",
      "display_name": "Python 3"
    },
    "language_info": {
      "name": "python"
    }
  },
  "cells": [
    {
      "cell_type": "markdown",
      "metadata": {
        "id": "view-in-github",
        "colab_type": "text"
      },
      "source": [
        "<a href=\"https://colab.research.google.com/github/mj2515/Python/blob/main/Untitled8.ipynb\" target=\"_parent\"><img src=\"https://colab.research.google.com/assets/colab-badge.svg\" alt=\"Open In Colab\"/></a>"
      ]
    },
    {
      "cell_type": "code",
      "metadata": {
        "colab": {
          "base_uri": "https://localhost:8080/"
        },
        "id": "RjOa_zwhepV-",
        "outputId": "0c063baa-5bf9-4351-9aa2-007fed3e6007"
      },
      "source": [
        "name=input(\"Enter\")\n",
        "print(name)\n",
        "apple=input(\"Enter\")\n",
        "x=int(apple)-10\n",
        "print(x)"
      ],
      "execution_count": null,
      "outputs": [
        {
          "output_type": "stream",
          "text": [
            "EnterAkshay\n",
            "Akshay\n",
            "Enter25\n",
            "15\n"
          ],
          "name": "stdout"
        }
      ]
    },
    {
      "cell_type": "code",
      "metadata": {
        "colab": {
          "base_uri": "https://localhost:8080/"
        },
        "id": "TiIPgLY1hJLF",
        "outputId": "fae9fe85-72f6-4d9a-f852-02324032d792"
      },
      "source": [
        "fruit= \"banana\"\n",
        "letter= fruit[1]\n",
        "print(letter)\n",
        "x=3\n",
        "x=fruit[x-1]\n",
        "print(x)\n"
      ],
      "execution_count": null,
      "outputs": [
        {
          "output_type": "stream",
          "text": [
            "a\n",
            "n\n"
          ],
          "name": "stdout"
        }
      ]
    },
    {
      "cell_type": "code",
      "metadata": {
        "colab": {
          "base_uri": "https://localhost:8080/"
        },
        "id": "rqP1xlmvi2Jl",
        "outputId": "0a801610-7ae2-49a7-fc15-007cb10b9b1d"
      },
      "source": [
        "fruit=\"banana\"\n",
        "print(len(fruit))"
      ],
      "execution_count": null,
      "outputs": [
        {
          "output_type": "stream",
          "text": [
            "6\n"
          ],
          "name": "stdout"
        }
      ]
    },
    {
      "cell_type": "code",
      "metadata": {
        "colab": {
          "base_uri": "https://localhost:8080/"
        },
        "id": "TeLDUVfojkee",
        "outputId": "0989269a-8d1a-4a96-d855-10768fcbc064"
      },
      "source": [
        "fruit=\"banana\"\n",
        "index=0 \n",
        "while index<len(fruit):\n",
        "  letter=fruit[index]\n",
        "  print(index, letter)\n",
        "  index=index+1"
      ],
      "execution_count": null,
      "outputs": [
        {
          "output_type": "stream",
          "text": [
            "0 b\n",
            "1 a\n",
            "2 n\n",
            "3 a\n",
            "4 n\n",
            "5 a\n"
          ],
          "name": "stdout"
        }
      ]
    },
    {
      "cell_type": "code",
      "metadata": {
        "colab": {
          "base_uri": "https://localhost:8080/"
        },
        "id": "zKatoBKckH4G",
        "outputId": "73580b29-5377-477f-eddb-5447ed250ed1"
      },
      "source": [
        "fruit=\"banana\"\n",
        "index=0\n",
        "for letter in fruit:\n",
        "  print(index,letter)\n",
        "  index= index+1"
      ],
      "execution_count": null,
      "outputs": [
        {
          "output_type": "stream",
          "text": [
            "0 b\n",
            "1 a\n",
            "2 n\n",
            "3 a\n",
            "4 n\n",
            "5 a\n"
          ],
          "name": "stdout"
        }
      ]
    },
    {
      "cell_type": "code",
      "metadata": {
        "colab": {
          "base_uri": "https://localhost:8080/",
          "height": 132
        },
        "id": "rD_8Rk1ZkjxK",
        "outputId": "50d0d524-e423-4911-b857-aa5c88970fd1"
      },
      "source": [
        "fruit=\"banana\"\n",
        "count=0\n",
        "for words in fruit:\n",
        "  if words=='a':\n",
        "  count=count+1\n",
        "print(count)\n",
        "  "
      ],
      "execution_count": null,
      "outputs": [
        {
          "output_type": "error",
          "ename": "IndentationError",
          "evalue": "ignored",
          "traceback": [
            "\u001b[0;36m  File \u001b[0;32m\"<ipython-input-11-92fee3f261f7>\"\u001b[0;36m, line \u001b[0;32m5\u001b[0m\n\u001b[0;31m    count=count+1\u001b[0m\n\u001b[0m        ^\u001b[0m\n\u001b[0;31mIndentationError\u001b[0m\u001b[0;31m:\u001b[0m expected an indented block\n"
          ]
        }
      ]
    },
    {
      "cell_type": "code",
      "metadata": {
        "colab": {
          "base_uri": "https://localhost:8080/"
        },
        "id": "b0OMTOs7m6H6",
        "outputId": "9275daa0-9ad9-4413-836d-6abf393122aa"
      },
      "source": [
        "s=\"Monty Python\"\n",
        "print(s[0:4])"
      ],
      "execution_count": null,
      "outputs": [
        {
          "output_type": "stream",
          "text": [
            "Mont\n"
          ],
          "name": "stdout"
        }
      ]
    },
    {
      "cell_type": "code",
      "metadata": {
        "colab": {
          "base_uri": "https://localhost:8080/"
        },
        "id": "3QJge69tnaUY",
        "outputId": "2ee11ac2-cf2f-4be3-be99-edaaad92d586"
      },
      "source": [
        "print(s[6:7])"
      ],
      "execution_count": null,
      "outputs": [
        {
          "output_type": "stream",
          "text": [
            "P\n"
          ],
          "name": "stdout"
        }
      ]
    },
    {
      "cell_type": "code",
      "metadata": {
        "colab": {
          "base_uri": "https://localhost:8080/"
        },
        "id": "m_rVDzNhnwWB",
        "outputId": "a6573027-58e7-4d11-c178-e44316a46f5c"
      },
      "source": [
        "print(s[6:20])"
      ],
      "execution_count": null,
      "outputs": [
        {
          "output_type": "stream",
          "text": [
            "Python\n"
          ],
          "name": "stdout"
        }
      ]
    },
    {
      "cell_type": "code",
      "metadata": {
        "colab": {
          "base_uri": "https://localhost:8080/"
        },
        "id": "uuZnok5_n6Vi",
        "outputId": "3b991069-1f5b-4651-a66a-e4ba52e93b39"
      },
      "source": [
        "print(s[5:6])"
      ],
      "execution_count": null,
      "outputs": [
        {
          "output_type": "stream",
          "text": [
            " \n"
          ],
          "name": "stdout"
        }
      ]
    },
    {
      "cell_type": "code",
      "metadata": {
        "colab": {
          "base_uri": "https://localhost:8080/"
        },
        "id": "2FcNibNJoLdX",
        "outputId": "d1983ab2-0fd5-4d34-e75a-d2abdd25cc36"
      },
      "source": [
        "print(s[:2])"
      ],
      "execution_count": null,
      "outputs": [
        {
          "output_type": "stream",
          "text": [
            "Mo\n"
          ],
          "name": "stdout"
        }
      ]
    },
    {
      "cell_type": "code",
      "metadata": {
        "colab": {
          "base_uri": "https://localhost:8080/"
        },
        "id": "zeQ2WVI-oZUm",
        "outputId": "a620782e-258e-4803-a0ba-bafdd4870969"
      },
      "source": [
        "print(s[8:])"
      ],
      "execution_count": null,
      "outputs": [
        {
          "output_type": "stream",
          "text": [
            "thon\n"
          ],
          "name": "stdout"
        }
      ]
    },
    {
      "cell_type": "code",
      "metadata": {
        "colab": {
          "base_uri": "https://localhost:8080/"
        },
        "id": "7rqbXVUeoin9",
        "outputId": "94d6b6e0-345f-43f6-8838-692c13d5e397"
      },
      "source": [
        "print(s[:])"
      ],
      "execution_count": null,
      "outputs": [
        {
          "output_type": "stream",
          "text": [
            "Monty Python\n"
          ],
          "name": "stdout"
        }
      ]
    },
    {
      "cell_type": "code",
      "metadata": {
        "colab": {
          "base_uri": "https://localhost:8080/"
        },
        "id": "QoM5z79QonrL",
        "outputId": "539e4b08-e8a6-4101-d9e2-966ee569a5ee"
      },
      "source": [
        "a='Hello'\n",
        "b=a+'World'\n",
        "print(b)"
      ],
      "execution_count": null,
      "outputs": [
        {
          "output_type": "stream",
          "text": [
            "HelloWorld\n"
          ],
          "name": "stdout"
        }
      ]
    },
    {
      "cell_type": "code",
      "metadata": {
        "colab": {
          "base_uri": "https://localhost:8080/"
        },
        "id": "4wpS5OXpo9rg",
        "outputId": "8f7897fc-a8ca-4b98-a123-d26af09b2910"
      },
      "source": [
        "a='Hello'\n",
        "b=a+' World'\n",
        "print(b)"
      ],
      "execution_count": null,
      "outputs": [
        {
          "output_type": "stream",
          "text": [
            "Hello World\n"
          ],
          "name": "stdout"
        }
      ]
    },
    {
      "cell_type": "code",
      "metadata": {
        "id": "7EE17lBFpBom"
      },
      "source": [
        ""
      ],
      "execution_count": null,
      "outputs": []
    },
    {
      "cell_type": "code",
      "metadata": {
        "colab": {
          "base_uri": "https://localhost:8080/"
        },
        "id": "iVsHiAEmp27v",
        "outputId": "1c94aeb5-4655-4ac8-bcb8-72d4487e0c13"
      },
      "source": [
        "fruit=\"banana\"\n",
        "'n' in fruit"
      ],
      "execution_count": null,
      "outputs": [
        {
          "output_type": "execute_result",
          "data": {
            "text/plain": [
              "True"
            ]
          },
          "metadata": {
            "tags": []
          },
          "execution_count": 22
        }
      ]
    },
    {
      "cell_type": "code",
      "metadata": {
        "colab": {
          "base_uri": "https://localhost:8080/"
        },
        "id": "EENpHmYEp-qK",
        "outputId": "88237ab7-1e68-407c-fffc-a9daf7aadfac"
      },
      "source": [
        "fruit=\"banana\"\n",
        "'b''n' in fruit"
      ],
      "execution_count": null,
      "outputs": [
        {
          "output_type": "execute_result",
          "data": {
            "text/plain": [
              "False"
            ]
          },
          "metadata": {
            "tags": []
          },
          "execution_count": 24
        }
      ]
    },
    {
      "cell_type": "code",
      "metadata": {
        "id": "JZg2V6grqQV1"
      },
      "source": [
        ""
      ],
      "execution_count": null,
      "outputs": []
    }
  ]
}