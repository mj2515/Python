{
  "nbformat": 4,
  "nbformat_minor": 0,
  "metadata": {
    "colab": {
      "name": "Untitled4.ipynb",
      "provenance": [],
      "collapsed_sections": [],
      "authorship_tag": "ABX9TyPRAj3Sxf7u55MsuhE+ir2i",
      "include_colab_link": true
    },
    "kernelspec": {
      "name": "python3",
      "display_name": "Python 3"
    },
    "language_info": {
      "name": "python"
    }
  },
  "cells": [
    {
      "cell_type": "markdown",
      "metadata": {
        "id": "view-in-github",
        "colab_type": "text"
      },
      "source": [
        "<a href=\"https://colab.research.google.com/github/mj2515/Python/blob/main/Untitled4.ipynb\" target=\"_parent\"><img src=\"https://colab.research.google.com/assets/colab-badge.svg\" alt=\"Open In Colab\"/></a>"
      ]
    },
    {
      "cell_type": "code",
      "metadata": {
        "colab": {
          "base_uri": "https://localhost:8080/"
        },
        "id": "4C0e9v7RaxDJ",
        "outputId": "5c7858a3-5115-4938-e4f5-4bae46c56d63"
      },
      "source": [
        "name= input(\"Who are you\")"
      ],
      "execution_count": null,
      "outputs": [
        {
          "output_type": "stream",
          "text": [
            "Who are youAkshay\n"
          ],
          "name": "stdout"
        }
      ]
    },
    {
      "cell_type": "code",
      "metadata": {
        "colab": {
          "base_uri": "https://localhost:8080/"
        },
        "id": "nQzG4K2ibEAJ",
        "outputId": "bf2ce072-37e9-4ef7-bde6-0d7669fd7c11"
      },
      "source": [
        "print('Welcome',name)"
      ],
      "execution_count": null,
      "outputs": [
        {
          "output_type": "stream",
          "text": [
            "Welcome Akshay\n"
          ],
          "name": "stdout"
        }
      ]
    },
    {
      "cell_type": "code",
      "metadata": {
        "colab": {
          "base_uri": "https://localhost:8080/"
        },
        "id": "4U8PwfVIbT9N",
        "outputId": "d436daca-ce57-4cf4-cb0f-03bfebd7a574"
      },
      "source": [
        "Age=input(\"Your age is =\")"
      ],
      "execution_count": null,
      "outputs": [
        {
          "output_type": "stream",
          "text": [
            "Your age is =20\n"
          ],
          "name": "stdout"
        }
      ]
    },
    {
      "cell_type": "code",
      "metadata": {
        "colab": {
          "base_uri": "https://localhost:8080/"
        },
        "id": "NbcKuqFibeO-",
        "outputId": "0ea44d38-441a-414b-886f-3a41ad63ee7f"
      },
      "source": [
        "print(\"You are\",Age,\"Years old\")"
      ],
      "execution_count": null,
      "outputs": [
        {
          "output_type": "stream",
          "text": [
            "You are 20 Years old\n"
          ],
          "name": "stdout"
        }
      ]
    },
    {
      "cell_type": "code",
      "metadata": {
        "colab": {
          "base_uri": "https://localhost:8080/"
        },
        "id": "ZJRiGunSbvjp",
        "outputId": "f39a7f71-ab46-4615-e733-676ef0626a69"
      },
      "source": [
        "x=5\n",
        "if x<0:\n",
        "   print(\"Smaller\")\n",
        "if x<20:\n",
        "   print(\"Bigger\")\n",
        "print(\"Final\")   \n",
        "print(x, \"is bigger\")"
      ],
      "execution_count": null,
      "outputs": [
        {
          "output_type": "stream",
          "text": [
            "Bigger\n",
            "Final\n",
            "5 is bigger\n"
          ],
          "name": "stdout"
        }
      ]
    },
    {
      "cell_type": "code",
      "metadata": {
        "colab": {
          "base_uri": "https://localhost:8080/"
        },
        "id": "xBwlyvNfcqXJ",
        "outputId": "05e42d90-0ed3-4744-fbab-f15c12367961"
      },
      "source": [
        "num1=input(\"Enter the first number\")\n",
        "num2=input(\"Enter the second number\")\n",
        "if num1<num2:\n",
        "   print(num2,\"is bigger\")\n",
        "if num2<num1:\n",
        "   print(num1,\"is bigger\")\n",
        "if num1==num2:\n",
        "   print(\"Both are same numbers, Please retry\")     \n"
      ],
      "execution_count": null,
      "outputs": [
        {
          "output_type": "stream",
          "text": [
            "Enter the first number25\n",
            "Enter the second number12\n",
            "25 is bigger\n"
          ],
          "name": "stdout"
        }
      ]
    },
    {
      "cell_type": "code",
      "metadata": {
        "colab": {
          "base_uri": "https://localhost:8080/"
        },
        "id": "e5WoHL1ed8As",
        "outputId": "43fab01c-86e8-4bf6-f99a-cd8bcd4eebad"
      },
      "source": [
        "x=5\n",
        "if x==5:\n",
        "   print(\"Equal to 5\")\n",
        "if x>4:\n",
        "   print(\"Greater than 4\") \n",
        "if x>=5:\n",
        "   print(\"Greater than or equal to 5\")\n",
        "if x<6:\n",
        "   print(\"Less than 6\")\n",
        "if x<=5:\n",
        "   print(\"Lesser than or equal to 5\")\n",
        "if x!=6:\n",
        "   print(\"Not equal to 6\")             "
      ],
      "execution_count": null,
      "outputs": [
        {
          "output_type": "stream",
          "text": [
            "Equal to 5\n",
            "Greater than 4\n",
            "Greater than or equal to 5\n",
            "Less than 6\n",
            "Lesser than or equal to 5\n",
            "Not equal to 6\n"
          ],
          "name": "stdout"
        }
      ]
    },
    {
      "cell_type": "code",
      "metadata": {
        "id": "lkWn7vynhB0g"
      },
      "source": [
        ""
      ],
      "execution_count": null,
      "outputs": []
    }
  ]
}