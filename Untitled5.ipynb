{
  "nbformat": 4,
  "nbformat_minor": 0,
  "metadata": {
    "colab": {
      "name": "Untitled5.ipynb",
      "provenance": [],
      "collapsed_sections": [],
      "authorship_tag": "ABX9TyMc8Dl45rrbWcJr4U55tOZZ",
      "include_colab_link": true
    },
    "kernelspec": {
      "name": "python3",
      "display_name": "Python 3"
    },
    "language_info": {
      "name": "python"
    }
  },
  "cells": [
    {
      "cell_type": "markdown",
      "metadata": {
        "id": "view-in-github",
        "colab_type": "text"
      },
      "source": [
        "<a href=\"https://colab.research.google.com/github/mj2515/Python/blob/main/Untitled5.ipynb\" target=\"_parent\"><img src=\"https://colab.research.google.com/assets/colab-badge.svg\" alt=\"Open In Colab\"/></a>"
      ]
    },
    {
      "cell_type": "code",
      "metadata": {
        "colab": {
          "base_uri": "https://localhost:8080/"
        },
        "id": "Yw2SpGJFj7li",
        "outputId": "90a8632f-dfa3-469c-de23-11e89561782a"
      },
      "source": [
        "astr=\"Hello Akshay\"\n",
        "try:\n",
        "  istr= int (astr)\n",
        "except:\n",
        "   istr=-1\n",
        "print('First',istr)\n",
        "astr='123'\n",
        "try:\n",
        "  istr= int (astr)\n",
        "except:\n",
        "  istr=-1\n",
        "  print(\"second\", istr)       "
      ],
      "execution_count": null,
      "outputs": [
        {
          "output_type": "stream",
          "text": [
            "First -1\n"
          ],
          "name": "stdout"
        }
      ]
    },
    {
      "cell_type": "code",
      "metadata": {
        "colab": {
          "base_uri": "https://localhost:8080/"
        },
        "id": "tM6I3Dm1mDjJ",
        "outputId": "08c749ca-7f8f-4abd-b9ab-c4bc5d6f8b2b"
      },
      "source": [
        "def thing():\n",
        "    print(\"hello\")\n",
        "    print(\"hai\")\n",
        "    print(\"fun\")\n",
        "thing()\n",
        "print(\"zip\")\n",
        "thing()    "
      ],
      "execution_count": null,
      "outputs": [
        {
          "output_type": "stream",
          "text": [
            "hello\n",
            "hai\n",
            "fun\n",
            "zip\n",
            "hello\n",
            "hai\n",
            "fun\n"
          ],
          "name": "stdout"
        }
      ]
    },
    {
      "cell_type": "code",
      "metadata": {
        "colab": {
          "base_uri": "https://localhost:8080/"
        },
        "id": "fNCq5ZLvo5V4",
        "outputId": "a378c8b6-abf8-41f3-deeb-daf4e860121e"
      },
      "source": [
        "big =max(\"helloworld\")\n",
        "print(big)"
      ],
      "execution_count": null,
      "outputs": [
        {
          "output_type": "stream",
          "text": [
            "w\n"
          ],
          "name": "stdout"
        }
      ]
    },
    {
      "cell_type": "code",
      "metadata": {
        "id": "-QCL0w0sqK8u"
      },
      "source": [
        ""
      ],
      "execution_count": null,
      "outputs": []
    },
    {
      "cell_type": "code",
      "metadata": {
        "id": "SPFltsgOr6mA"
      },
      "source": [
        ""
      ],
      "execution_count": null,
      "outputs": []
    },
    {
      "cell_type": "code",
      "metadata": {
        "colab": {
          "base_uri": "https://localhost:8080/"
        },
        "id": "evNhc4GIqOiE",
        "outputId": "e6c90c05-6bc1-475f-9b95-cd7986cbd568"
      },
      "source": [
        "def great(lang):\n",
        "    if lang==\"en\":\n",
        "      print(\"English\")\n",
        "    elif lang==\"ml\":\n",
        "      print(\"Malayalam\")\n",
        "    else:\n",
        "      print(\"Hindi\")\n",
        "great(\"en\")    "
      ],
      "execution_count": null,
      "outputs": [
        {
          "output_type": "stream",
          "text": [
            "English\n"
          ],
          "name": "stdout"
        }
      ]
    },
    {
      "cell_type": "code",
      "metadata": {
        "colab": {
          "base_uri": "https://localhost:8080/",
          "height": 35
        },
        "id": "EO9VfC_LrRmI",
        "outputId": "218d1cca-09d1-4f46-c63d-4616b6946673"
      },
      "source": [
        "def great(lang):\n",
        "    if lang==\"en\":\n",
        "      return \"English\"\n",
        "    elif lang==\"ml\":\n",
        "      print(\"Malayalam\")\n",
        "    else:\n",
        "      print(\"Hindi\")\n",
        "great(\"en\")    \n"
      ],
      "execution_count": null,
      "outputs": [
        {
          "output_type": "execute_result",
          "data": {
            "application/vnd.google.colaboratory.intrinsic+json": {
              "type": "string"
            },
            "text/plain": [
              "'English'"
            ]
          },
          "metadata": {
            "tags": []
          },
          "execution_count": 9
        }
      ]
    },
    {
      "cell_type": "code",
      "metadata": {
        "colab": {
          "base_uri": "https://localhost:8080/"
        },
        "id": "fie03xfssHsJ",
        "outputId": "d786cb98-5195-40c0-9536-a41acad42f5a"
      },
      "source": [
        "def addtwo(a,b):\n",
        "    added=a+b\n",
        "    return added\n",
        "print(addtwo(5,6))    "
      ],
      "execution_count": null,
      "outputs": [
        {
          "output_type": "stream",
          "text": [
            "11\n"
          ],
          "name": "stdout"
        }
      ]
    },
    {
      "cell_type": "code",
      "metadata": {
        "id": "xG2sS7S9tMkF"
      },
      "source": [
        ""
      ],
      "execution_count": null,
      "outputs": []
    }
  ]
}