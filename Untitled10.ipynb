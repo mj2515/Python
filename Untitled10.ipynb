{
  "nbformat": 4,
  "nbformat_minor": 0,
  "metadata": {
    "colab": {
      "name": "Untitled10.ipynb",
      "provenance": [],
      "authorship_tag": "ABX9TyOmNFIi11pjXfq2d36epZUZ",
      "include_colab_link": true
    },
    "kernelspec": {
      "name": "python3",
      "display_name": "Python 3"
    },
    "language_info": {
      "name": "python"
    }
  },
  "cells": [
    {
      "cell_type": "markdown",
      "metadata": {
        "id": "view-in-github",
        "colab_type": "text"
      },
      "source": [
        "<a href=\"https://colab.research.google.com/github/mj2515/Python/blob/main/Untitled10.ipynb\" target=\"_parent\"><img src=\"https://colab.research.google.com/assets/colab-badge.svg\" alt=\"Open In Colab\"/></a>"
      ]
    },
    {
      "cell_type": "code",
      "metadata": {
        "colab": {
          "base_uri": "https://localhost:8080/"
        },
        "id": "WSjtaftX1U0f",
        "outputId": "98727e0f-1dfc-4f1d-f15f-14830d9fb212"
      },
      "source": [
        "purse= dict()\n",
        "purse['cse']=32\n",
        "purse['eee']=3\n",
        "purse['mr']=12\n",
        "purse['me']=4\n",
        "print(purse)"
      ],
      "execution_count": null,
      "outputs": [
        {
          "output_type": "stream",
          "text": [
            "{'cse': 32, 'eee': 3, 'mr': 12, 'me': 4}\n"
          ],
          "name": "stdout"
        }
      ]
    },
    {
      "cell_type": "code",
      "metadata": {
        "colab": {
          "base_uri": "https://localhost:8080/"
        },
        "id": "OWyJfCAJ1yLW",
        "outputId": "4dd6ee7a-8e2a-43fe-8866-e2a76b7879c1"
      },
      "source": [
        "num={'a':12,'b':3,'c':12,'d':4}\n",
        "print(num)"
      ],
      "execution_count": null,
      "outputs": [
        {
          "output_type": "stream",
          "text": [
            "{'a': 12, 'b': 3, 'c': 12, 'd': 4}\n"
          ],
          "name": "stdout"
        }
      ]
    },
    {
      "cell_type": "code",
      "metadata": {
        "colab": {
          "base_uri": "https://localhost:8080/"
        },
        "id": "vkvZ0Tz82Tl9",
        "outputId": "a4a573e5-60df-4c4b-f979-17ccf4670a2f"
      },
      "source": [
        "print(purse['me'])"
      ],
      "execution_count": null,
      "outputs": [
        {
          "output_type": "stream",
          "text": [
            "4\n"
          ],
          "name": "stdout"
        }
      ]
    },
    {
      "cell_type": "code",
      "metadata": {
        "colab": {
          "base_uri": "https://localhost:8080/"
        },
        "id": "wXbRHVtN2XIv",
        "outputId": "e1d872b0-85ea-403a-d50a-82f92f63e6e6"
      },
      "source": [
        "purse['eee']=purse['eee']+2\n",
        "print(purse)"
      ],
      "execution_count": null,
      "outputs": [
        {
          "output_type": "stream",
          "text": [
            "{'cse': 32, 'eee': 5, 'mr': 12, 'me': 4}\n"
          ],
          "name": "stdout"
        }
      ]
    },
    {
      "cell_type": "code",
      "metadata": {
        "colab": {
          "base_uri": "https://localhost:8080/"
        },
        "id": "7gZAkFIU2fGW",
        "outputId": "12ba64cb-bf3a-4990-a06f-2b4e8c04da8a"
      },
      "source": [
        "lst=list()\n",
        "lst.append(21)\n",
        "lst.append('Hello')\n",
        "print(lst)"
      ],
      "execution_count": null,
      "outputs": [
        {
          "output_type": "stream",
          "text": [
            "[21, 'Hello']\n"
          ],
          "name": "stdout"
        }
      ]
    },
    {
      "cell_type": "code",
      "metadata": {
        "colab": {
          "base_uri": "https://localhost:8080/"
        },
        "id": "Y4InRl4c2_7_",
        "outputId": "c51f69b2-5a00-4695-ff05-343d72d7d049"
      },
      "source": [
        "ddd=dict()\n",
        "ddd['age']=12\n",
        "ddd['Name']='Hello'\n",
        "print(ddd)"
      ],
      "execution_count": null,
      "outputs": [
        {
          "output_type": "stream",
          "text": [
            "{'age': 12, 'Name': 'Hello'}\n"
          ],
          "name": "stdout"
        }
      ]
    },
    {
      "cell_type": "code",
      "metadata": {
        "colab": {
          "base_uri": "https://localhost:8080/"
        },
        "id": "KabKgUTC3o11",
        "outputId": "c012fe79-fc0a-495e-e025-2fe8a0708638"
      },
      "source": [
        "lst[1]='Hi'\n",
        "print(lst)"
      ],
      "execution_count": null,
      "outputs": [
        {
          "output_type": "stream",
          "text": [
            "[21, 'Hi']\n"
          ],
          "name": "stdout"
        }
      ]
    },
    {
      "cell_type": "code",
      "metadata": {
        "colab": {
          "base_uri": "https://localhost:8080/"
        },
        "id": "65xQjRI73vyJ",
        "outputId": "bc66e0a8-6c3e-4a1b-d0bf-1ecbe8558918"
      },
      "source": [
        "ddd['Name']='Hi'\n",
        "print(ddd)"
      ],
      "execution_count": null,
      "outputs": [
        {
          "output_type": "stream",
          "text": [
            "{'age': 12, 'Name': 'Hi'}\n"
          ],
          "name": "stdout"
        }
      ]
    },
    {
      "cell_type": "code",
      "metadata": {
        "colab": {
          "base_uri": "https://localhost:8080/"
        },
        "id": "7g493LWE32va",
        "outputId": "4cc2d106-d1fc-4841-e603-b0fe2baf65cd"
      },
      "source": [
        "num={'dcd':12,'sdsd':3,'addsds':12,'bcf':4}\n",
        "print(num)"
      ],
      "execution_count": null,
      "outputs": [
        {
          "output_type": "stream",
          "text": [
            "{'dcd': 12, 'sdsd': 3, 'addsds': 12, 'bcf': 4}\n"
          ],
          "name": "stdout"
        }
      ]
    },
    {
      "cell_type": "code",
      "metadata": {
        "colab": {
          "base_uri": "https://localhost:8080/"
        },
        "id": "0sPx9Fxx4oqs",
        "outputId": "42a8b7ef-f4c8-40c6-d57d-3f6655dd5dc4"
      },
      "source": [
        "'e' in num"
      ],
      "execution_count": null,
      "outputs": [
        {
          "output_type": "execute_result",
          "data": {
            "text/plain": [
              "False"
            ]
          },
          "metadata": {
            "tags": []
          },
          "execution_count": 13
        }
      ]
    },
    {
      "cell_type": "code",
      "metadata": {
        "colab": {
          "base_uri": "https://localhost:8080/"
        },
        "id": "uiYB6KWa4uK5",
        "outputId": "2c8d31d7-a49e-490c-d0df-574f0882f354"
      },
      "source": [
        "'a' in num"
      ],
      "execution_count": null,
      "outputs": [
        {
          "output_type": "execute_result",
          "data": {
            "text/plain": [
              "False"
            ]
          },
          "metadata": {
            "tags": []
          },
          "execution_count": 14
        }
      ]
    },
    {
      "cell_type": "code",
      "metadata": {
        "colab": {
          "base_uri": "https://localhost:8080/",
          "height": 132
        },
        "id": "Qxch-ElT4xcI",
        "outputId": "93824b55-3f25-48b4-d5e0-78f10c249bc3"
      },
      "source": [
        "counts=dict()\n",
        "depts=['cse','eee','me','ece']\n",
        "for dept in depts:\n",
        "  if dept not in counts:\n",
        "    counts[dept]+1\n",
        "   else:\n",
        "     counts[dept]=counts[dept]+1\n",
        " prints(counts)     "
      ],
      "execution_count": null,
      "outputs": [
        {
          "output_type": "error",
          "ename": "IndentationError",
          "evalue": "ignored",
          "traceback": [
            "\u001b[0;36m  File \u001b[0;32m\"<ipython-input-16-2f113b261a5d>\"\u001b[0;36m, line \u001b[0;32m6\u001b[0m\n\u001b[0;31m    else:\u001b[0m\n\u001b[0m         ^\u001b[0m\n\u001b[0;31mIndentationError\u001b[0m\u001b[0;31m:\u001b[0m unindent does not match any outer indentation level\n"
          ]
        }
      ]
    },
    {
      "cell_type": "code",
      "metadata": {
        "id": "hskg3EWO6Ozy"
      },
      "source": [
        "counts=dict()\n",
        "depts=['cse','eee','me','ece','cse','me',]"
      ],
      "execution_count": null,
      "outputs": []
    }
  ]
}