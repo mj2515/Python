{
  "nbformat": 4,
  "nbformat_minor": 0,
  "metadata": {
    "colab": {
      "name": "Untitled9.ipynb",
      "provenance": [],
      "authorship_tag": "ABX9TyONL3xYN5qGI5inYndJjpl3",
      "include_colab_link": true
    },
    "kernelspec": {
      "name": "python3",
      "display_name": "Python 3"
    },
    "language_info": {
      "name": "python"
    }
  },
  "cells": [
    {
      "cell_type": "markdown",
      "metadata": {
        "id": "view-in-github",
        "colab_type": "text"
      },
      "source": [
        "<a href=\"https://colab.research.google.com/github/mj2515/Python/blob/main/Untitled9.ipynb\" target=\"_parent\"><img src=\"https://colab.research.google.com/assets/colab-badge.svg\" alt=\"Open In Colab\"/></a>"
      ]
    },
    {
      "cell_type": "code",
      "metadata": {
        "id": "1c-NBfexnu8w"
      },
      "source": [
        "word=\"hello\"\n",
        "if word==\"banana\":\n",
        "  print(\"equal\",word)"
      ],
      "execution_count": null,
      "outputs": []
    },
    {
      "cell_type": "code",
      "metadata": {
        "colab": {
          "base_uri": "https://localhost:8080/"
        },
        "id": "QR_olxjzpMFX",
        "outputId": "fa34b2b4-178d-4a38-d67e-2bff9f71bf85"
      },
      "source": [
        "print(\"Geek\" == \"Geek\")\n",
        "print(\"Geek\" < \"geek\")\n",
        "print(\"Geek\" > \"geek\")\n",
        "print(\"Geek\" != \"Geek\")\n"
      ],
      "execution_count": null,
      "outputs": [
        {
          "output_type": "stream",
          "text": [
            "True\n",
            "True\n",
            "False\n",
            "False\n"
          ],
          "name": "stdout"
        }
      ]
    },
    {
      "cell_type": "code",
      "metadata": {
        "colab": {
          "base_uri": "https://localhost:8080/"
        },
        "id": "MpCIIPe_qbY7",
        "outputId": "9fbf4ccf-9674-4aaa-89e7-a75f6769a92e"
      },
      "source": [
        "if \"word\"<\"banana\":\n",
        "  print(\"your word \"+ word +\" comes after banana\")\n",
        "if \"word\">\"banana\":   \n",
        "  print(\"your word \"+ word +\" comes after banana\")"
      ],
      "execution_count": null,
      "outputs": [
        {
          "output_type": "stream",
          "text": [
            "your word hello comes after banana\n"
          ],
          "name": "stdout"
        }
      ]
    },
    {
      "cell_type": "code",
      "metadata": {
        "colab": {
          "base_uri": "https://localhost:8080/"
        },
        "id": "EEAo7yv8ri3E",
        "outputId": "268d5f4e-ce10-4473-c2e1-ed1f098ffd6c"
      },
      "source": [
        "great=\"Hello Akshay\"\n",
        "lower=great.lower()\n",
        "print(lower)"
      ],
      "execution_count": null,
      "outputs": [
        {
          "output_type": "stream",
          "text": [
            "hello akshay\n"
          ],
          "name": "stdout"
        }
      ]
    },
    {
      "cell_type": "code",
      "metadata": {
        "colab": {
          "base_uri": "https://localhost:8080/"
        },
        "id": "dL3UOI1Ksnqy",
        "outputId": "4bbe0e9a-94d8-4e2e-8e2c-c56376902a18"
      },
      "source": [
        "great=\"Hello Akshay\"\n",
        "upper=great.upper()\n",
        "print(upper)"
      ],
      "execution_count": null,
      "outputs": [
        {
          "output_type": "stream",
          "text": [
            "HELLO AKSHAY\n"
          ],
          "name": "stdout"
        }
      ]
    },
    {
      "cell_type": "code",
      "metadata": {
        "colab": {
          "base_uri": "https://localhost:8080/"
        },
        "id": "xHik2ZELs571",
        "outputId": "33b17b3c-8207-45f8-a0af-13e139017e7d"
      },
      "source": [
        "#Searching a String using Find()\n",
        "fruit=\"banana\"\n",
        "pos=fruit.find(\"na\")\n",
        "print(pos)"
      ],
      "execution_count": null,
      "outputs": [
        {
          "output_type": "stream",
          "text": [
            "2\n"
          ],
          "name": "stdout"
        }
      ]
    },
    {
      "cell_type": "code",
      "metadata": {
        "colab": {
          "base_uri": "https://localhost:8080/"
        },
        "id": "C2pavw5htWJK",
        "outputId": "fe921b88-c4b2-4448-850d-69ae8ea5c9e5"
      },
      "source": [
        "aa=fruit.find(\"z\")\n",
        "print(aa)"
      ],
      "execution_count": null,
      "outputs": [
        {
          "output_type": "stream",
          "text": [
            "-1\n"
          ],
          "name": "stdout"
        }
      ]
    },
    {
      "cell_type": "code",
      "metadata": {
        "colab": {
          "base_uri": "https://localhost:8080/"
        },
        "id": "KpV3HyLLtoQP",
        "outputId": "126e5411-3832-4e02-c5e0-ac83ca6f0fb6"
      },
      "source": [
        "#Search and replace\n",
        "great=\"hello BOB\"\n",
        "nstr=great.replace(\"BOB\",\"JANA\")\n",
        "print(nstr)"
      ],
      "execution_count": null,
      "outputs": [
        {
          "output_type": "stream",
          "text": [
            "hello JANA\n"
          ],
          "name": "stdout"
        }
      ]
    },
    {
      "cell_type": "code",
      "metadata": {
        "colab": {
          "base_uri": "https://localhost:8080/"
        },
        "id": "0I1u7Sp0vFyF",
        "outputId": "fcd14f77-769c-42a6-aa3b-5327c581a378"
      },
      "source": [
        "nstr=great.replace(\"o\",\"x\")\n",
        "print(nstr)"
      ],
      "execution_count": null,
      "outputs": [
        {
          "output_type": "stream",
          "text": [
            "hellx BOB\n"
          ],
          "name": "stdout"
        }
      ]
    },
    {
      "cell_type": "code",
      "metadata": {
        "colab": {
          "base_uri": "https://localhost:8080/"
        },
        "id": "scLWjldqvXUM",
        "outputId": "7d2df9d9-01fb-44b2-ceea-44aa6ed10549"
      },
      "source": [
        "#Stripping white space\n",
        "first=\"   Hello Bob\"\n",
        "print(first)\n",
        "strip=first.strip()\n",
        "print(strip)\n",
        "left=first.lstrip()\n",
        "print(left)\n",
        "right=first.rstrip()\n",
        "print(right)"
      ],
      "execution_count": null,
      "outputs": [
        {
          "output_type": "stream",
          "text": [
            "   Hello Bob\n",
            "Hello Bob\n",
            "Hello Bob\n",
            "   Hello Bob\n"
          ],
          "name": "stdout"
        }
      ]
    },
    {
      "cell_type": "code",
      "metadata": {
        "colab": {
          "base_uri": "https://localhost:8080/"
        },
        "id": "m77RP35CxE2I",
        "outputId": "2a6fc00b-5581-4f6f-b4cc-d6194b8ee202"
      },
      "source": [
        "#Prefixes\n",
        "line=\" Please have a nice day\"\n",
        "line.startswith(\" \")"
      ],
      "execution_count": null,
      "outputs": [
        {
          "output_type": "execute_result",
          "data": {
            "text/plain": [
              "True"
            ]
          },
          "metadata": {
            "tags": []
          },
          "execution_count": 23
        }
      ]
    },
    {
      "cell_type": "code",
      "metadata": {
        "id": "yiS8W8cKxYxa"
      },
      "source": [
        "#Praising and extraction\n",
        "data+\"\""
      ],
      "execution_count": null,
      "outputs": []
    }
  ]
}