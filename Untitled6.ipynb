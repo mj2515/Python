{
  "nbformat": 4,
  "nbformat_minor": 0,
  "metadata": {
    "colab": {
      "name": "Untitled6.ipynb",
      "provenance": [],
      "authorship_tag": "ABX9TyN354xDVKFB5vBMD9FwDfKW",
      "include_colab_link": true
    },
    "kernelspec": {
      "name": "python3",
      "display_name": "Python 3"
    },
    "language_info": {
      "name": "python"
    }
  },
  "cells": [
    {
      "cell_type": "markdown",
      "metadata": {
        "id": "view-in-github",
        "colab_type": "text"
      },
      "source": [
        "<a href=\"https://colab.research.google.com/github/mj2515/Python/blob/main/Untitled6.ipynb\" target=\"_parent\"><img src=\"https://colab.research.google.com/assets/colab-badge.svg\" alt=\"Open In Colab\"/></a>"
      ]
    },
    {
      "cell_type": "code",
      "metadata": {
        "colab": {
          "base_uri": "https://localhost:8080/"
        },
        "id": "MuIQmKr6ef-G",
        "outputId": "2f909bf5-1611-4ac3-c10a-dc24e0a442bf"
      },
      "source": [
        "def mul(a,b):\n",
        "    multiply = (a*b)\n",
        "    return multiply\n",
        "print (mul(6,3))    \n"
      ],
      "execution_count": null,
      "outputs": [
        {
          "output_type": "stream",
          "text": [
            "18\n"
          ],
          "name": "stdout"
        }
      ]
    },
    {
      "cell_type": "code",
      "metadata": {
        "colab": {
          "base_uri": "https://localhost:8080/"
        },
        "id": "CKfSVzyCgSgR",
        "outputId": "f74aad52-cf6c-42bd-95f0-227c6f3dabc8"
      },
      "source": [
        "n=5\n",
        "while n>0:\n",
        "  print (n)\n",
        "  n=n-1\n",
        "print(\"finish\")\n",
        "print (n)    "
      ],
      "execution_count": null,
      "outputs": [
        {
          "output_type": "stream",
          "text": [
            "5\n",
            "4\n",
            "3\n",
            "2\n",
            "1\n",
            "finish\n",
            "0\n"
          ],
          "name": "stdout"
        }
      ]
    },
    {
      "cell_type": "code",
      "metadata": {
        "id": "j_oUIkrghKb_"
      },
      "source": [
        "while true:\n",
        "  line = input(\">\")\n",
        "  "
      ],
      "execution_count": null,
      "outputs": []
    }
  ]
}